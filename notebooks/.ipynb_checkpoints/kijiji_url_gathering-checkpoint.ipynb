{
 "cells": [
  {
   "cell_type": "code",
   "execution_count": 1,
   "id": "d9fd4bd9-db75-45de-9b88-b9f2cb7f947b",
   "metadata": {},
   "outputs": [],
   "source": [
    "import requests\n",
    "import csv\n",
    "\n",
    "from tqdm.notebook import tqdm\n",
    "from bs4 import BeautifulSoup\n",
    "import pandas as pd"
   ]
  },
  {
   "cell_type": "code",
   "execution_count": 4,
   "id": "a9e8d08f-fa8f-4ed9-afaf-fe068d62e8e1",
   "metadata": {},
   "outputs": [
    {
     "data": {
      "application/vnd.jupyter.widget-view+json": {
       "model_id": "cfb25c35f4e244c59409edc0025c64a3",
       "version_major": 2,
       "version_minor": 0
      },
      "text/plain": [
       "  0%|          | 0/40 [00:00<?, ?it/s]"
      ]
     },
     "metadata": {},
     "output_type": "display_data"
    },
    {
     "data": {
      "text/plain": [
       "0     /v-apartments-condos/regina/2-bedroom-22-41-mu...\n",
       "1     /v-apartments-condos/regina/beautiful-bachelor...\n",
       "2     /v-apartments-condos/regina/downtown-apartment...\n",
       "3     /v-apartments-condos/regina/parliament-place-a...\n",
       "4     /v-apartments-condos/regina/pet-friendly-2-bed...\n",
       "                            ...                        \n",
       "38    /v-apartments-condos/regina/silver-sage-housin...\n",
       "39    /v-apartments-condos/regina/house-for-rent/156...\n",
       "40    /v-apartments-condos/regina/3-bedroom-house-fo...\n",
       "41    /v-apartments-condos/regina/luxury-harbour-lan...\n",
       "42    /v-apartments-condos/regina/stoughton-rental/1...\n",
       "Length: 853, dtype: object"
      ]
     },
     "execution_count": 4,
     "metadata": {},
     "output_type": "execute_result"
    }
   ],
   "source": [
    "LISTINGS_SELECTOR = \"#mainPageContent > div.layout-3.new-real-estate-srp > div.col-2.new-real-estate-srp > div:nth-child(2) > div > div > div.info > div > div.title > a\"\n",
    "NEXT_SELECTOR = \"a[title='Next']\"\n",
    "current_link = \"https://www.kijiji.ca/b-apartments-condos/regina/c37l1700196\"\n",
    "urls = pd.Series(dtype=str)\n",
    "\n",
    "pbar = tqdm(total=40)\n",
    "\n",
    "while current_link:\n",
    "    req = requests.get(current_link)\n",
    "    soup = BeautifulSoup(req.text, features=\"lxml\")\n",
    "    links = soup.html.select(LISTINGS_SELECTOR)\n",
    "    tmp_series = pd.Series(links)\n",
    "    tmp_series = tmp_series.apply(lambda link: link.attrs['href'])\n",
    "    urls = urls.append(tmp_series)\n",
    "    \n",
    "    next_selection = soup.select(NEXT_SELECTOR)\n",
    "    if not next_selection:\n",
    "        break\n",
    "    current_link = \"http://kijiji.ca\" + next_selection[0].attrs['href']\n",
    "    pbar.update(1)\n",
    "\n",
    "urls"
   ]
  },
  {
   "cell_type": "code",
   "execution_count": 5,
   "id": "e464f1cb-668f-4507-8f58-c2dd397462df",
   "metadata": {},
   "outputs": [
    {
     "name": "stdout",
     "output_type": "stream",
     "text": [
      "http://kijiji.ca/b-apartments-condos/regina/page-19/c37l1700196?ad=offering\n"
     ]
    }
   ],
   "source": [
    "urls.to_csv(\"kijiji_listings.csv\", index=False)\n",
    "print(current_link)"
   ]
  },
  {
   "cell_type": "code",
   "execution_count": 64,
   "id": "e74cab44-15f1-4c9a-8756-a5c5d881a181",
   "metadata": {},
   "outputs": [
    {
     "name": "stdout",
     "output_type": "stream",
     "text": [
      "http://kijiji.ca/b-apartments-condos/regina/page-19/c37l1700196?ad=offering\n"
     ]
    }
   ],
   "source": []
  },
  {
   "cell_type": "code",
   "execution_count": null,
   "id": "847a7ce0-1200-4320-ae18-91ed41ada90d",
   "metadata": {},
   "outputs": [],
   "source": []
  }
 ],
 "metadata": {
  "kernelspec": {
   "display_name": "Python 3",
   "language": "python",
   "name": "python3"
  },
  "language_info": {
   "codemirror_mode": {
    "name": "ipython",
    "version": 3
   },
   "file_extension": ".py",
   "mimetype": "text/x-python",
   "name": "python",
   "nbconvert_exporter": "python",
   "pygments_lexer": "ipython3",
   "version": "3.9.4"
  }
 },
 "nbformat": 4,
 "nbformat_minor": 5
}
