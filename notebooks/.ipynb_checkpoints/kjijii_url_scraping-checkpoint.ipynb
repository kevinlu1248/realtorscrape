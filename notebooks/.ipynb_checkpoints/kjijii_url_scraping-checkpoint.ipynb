{
 "cells": [
  {
   "cell_type": "code",
   "execution_count": 2,
   "id": "ae36e740-9bfc-4645-a511-80fbaf9a5901",
   "metadata": {},
   "outputs": [],
   "source": [
    "import requests\n",
    "import csv\n",
    "import json\n",
    "import random\n",
    "from time import sleep\n",
    "\n",
    "from tqdm.notebook import tqdm\n",
    "from bs4 import BeautifulSoup\n",
    "import pandas as pd\n",
    "\n",
    "urls = pd.read_csv(\"kijiji_listings.csv\")[\"0\"]"
   ]
  },
  {
   "cell_type": "code",
   "execution_count": null,
   "id": "200320a7-f803-4e59-8e7c-2772e4e3ac49",
   "metadata": {},
   "outputs": [
    {
     "data": {
      "application/vnd.jupyter.widget-view+json": {
       "model_id": "798027cd11854e3a9c5ec59ae32f3d40",
       "version_major": 2,
       "version_minor": 0
      },
      "text/plain": [
       "  0%|          | 0/151 [00:00<?, ?it/s]"
      ]
     },
     "metadata": {},
     "output_type": "display_data"
    }
   ],
   "source": [
    "# Main Scrape\n",
    "def getData(url, req=None):\n",
    "    if req == None:\n",
    "        req = requests.get(\"https://kijiji.ca\" + url)\n",
    "    info = {}\n",
    "\n",
    "    soup = BeautifulSoup(req.text)\n",
    "    cost_text = soup.select(\"div[class^='priceWrapper'] > span\")[0].text.replace(\",\", \"\")\n",
    "    try:\n",
    "        info[\"cost\"] = int(cost_text.lstrip(\"$\"))\n",
    "    except:\n",
    "        info[\"cost\"] = -1\n",
    "\n",
    "    info[\"address\"] = soup.select(\"span[itemprop='address']\")[0].text\n",
    "    info[\"unitType\"] = soup.select(\"svg:has(> use[xlink\\:href='#icon-attributes-unittype']) + span\")[0].text\n",
    "    info['bedrooms'] = soup.select(\"span:contains('Bedrooms: ')\")[0].text[len(\"Bedrooms: \"):]\n",
    "    info['bathrooms'] = float(soup.select(\"span:contains('Bathrooms: ')\")[0].text[len(\"Bathrooms: \"):])\n",
    "\n",
    "    info[\"hydro\"] = int(bool(soup.select(\"svg[aria-label='Yes: Hydro']\")))\n",
    "    info[\"heat\"] = int(bool(soup.select(\"svg[aria-label='Yes: Heat']\")))\n",
    "    info[\"water\"] = int(bool(soup.select(\"svg[aria-label='Yes: Water']\")))\n",
    "\n",
    "    info[\"wifi_info\"] = soup.select(\"h4:contains('Wi-Fi and More') + ul\")[0].text\n",
    "    info[\"parking\"] = soup.select(\"dt:contains('Parking Included') + dd\")[0].text\n",
    "    info[\"agreement\"] = soup.select(\"dt:contains('Agreement Type') + dd\")[0].text\n",
    "    info[\"pet\"] = int(bool(soup.select(\"dt:contains('Pet Friendly') + dd\")[0].text == \"Yes\"))\n",
    "\n",
    "    size_text = soup.select(\"dt:contains('Size (sqft)') + dd\")[0].text.replace(\",\", \"\")\n",
    "    try:\n",
    "        info[\"size\"] = int(size_text)\n",
    "    except:\n",
    "        info[\"size\"] = -1\n",
    "    info[\"furnished\"] = int(bool(soup.select(\"dt:contains('Furnished') + dd\")[0].text == \"Yes\"))\n",
    "    info[\"appliances\"] = soup.select(\"h4:contains('Appliances') + ul\")[0].get_text(separator=',')\n",
    "    info['ac'] = int(bool(soup.select(\"dt:contains('Air Conditioning') + dd\")[0].text == \"Yes\"))\n",
    "    info['outdoor'] = soup.select(\"h4:contains('Personal Outdoor Space') + ul\")[0].get_text(separator=',')\n",
    "    info['smoking'] = int(bool(soup.select(\"dt:contains('Smoking Permitted') + dd\")[0].text == \"Yes\"))\n",
    "    \n",
    "    amenities_text = soup.select(\"h4:contains('Amenities') + ul\")\n",
    "    if amenities_text:\n",
    "        info['amenities'] = amenities_text[0].get_text(separator=',')\n",
    "    else:\n",
    "        info['amenities'] = \"Not Included\"\n",
    "\n",
    "    return info\n",
    "\n",
    "# df = pd.DataFrame()\n",
    "url = urls[1]\n",
    "\n",
    "def repeatGetData(url, wait=30):\n",
    "    req = requests.get(\"https://kijiji.ca\" + url)\n",
    "    try:\n",
    "        return getData(url, req)\n",
    "    except Exception as e:\n",
    "        open(\"index.html\", \"w\").write(req.text)\n",
    "        if req.text.find(\"Hmm... Apparently this page no longer exists.\") > 0:\n",
    "            print(f\"Page https://kijiji.ca{url} no longer exists\")\n",
    "            return None\n",
    "        print(f\"- Failed for url https://kijiji.ca{url}, with error {e} and request status {req}, waiting {wait}s\")\n",
    "        sleep(wait)\n",
    "        return repeatGetData(url, wait=wait + 30)\n",
    "\n",
    "fprintData = lambda url: print(json.dumps(repeatGetData(url), indent=4))\n",
    "failedURLs = []\n",
    "\n",
    "# skipped 649, 701\n",
    "for url in tqdm(urls[702:]):\n",
    "    data = repeatGetData(url)\n",
    "    sleep(5)\n",
    "    if data == None:\n",
    "        continue\n",
    "    data[\"url\"] = url\n",
    "    df = df.append(pd.DataFrame(data, index=[0]))\n",
    "    df.to_csv(\"kijiji_listing_data.csv\")\n",
    "\n",
    "df"
   ]
  },
  {
   "cell_type": "code",
   "execution_count": null,
   "id": "9075d579-eb6b-40f3-b1d3-63f042b866c0",
   "metadata": {},
   "outputs": [],
   "source": []
  }
 ],
 "metadata": {
  "kernelspec": {
   "display_name": "Python 3",
   "language": "python",
   "name": "python3"
  },
  "language_info": {
   "codemirror_mode": {
    "name": "ipython",
    "version": 3
   },
   "file_extension": ".py",
   "mimetype": "text/x-python",
   "name": "python",
   "nbconvert_exporter": "python",
   "pygments_lexer": "ipython3",
   "version": "3.9.4"
  }
 },
 "nbformat": 4,
 "nbformat_minor": 5
}
