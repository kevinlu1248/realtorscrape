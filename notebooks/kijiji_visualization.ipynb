{
 "cells": [
  {
   "cell_type": "code",
   "execution_count": 1,
   "id": "862dfa9b-0170-4255-bf00-1973fcc7a1b0",
   "metadata": {},
   "outputs": [],
   "source": [
    "import requests\n",
    "import csv\n",
    "import json\n",
    "import random\n",
    "from time import sleep\n",
    "from collections import Counter\n",
    "\n",
    "from tqdm.notebook import tqdm\n",
    "from bs4 import BeautifulSoup\n",
    "import pandas as pd\n",
    "import numpy as np\n",
    "import matplotlib.pyplot as plt"
   ]
  },
  {
   "cell_type": "code",
   "execution_count": 25,
   "id": "6090f434-c535-4db2-83d5-9364f784d70a",
   "metadata": {},
   "outputs": [
    {
     "data": {
      "text/html": [
       "<div>\n",
       "<style scoped>\n",
       "    .dataframe tbody tr th:only-of-type {\n",
       "        vertical-align: middle;\n",
       "    }\n",
       "\n",
       "    .dataframe tbody tr th {\n",
       "        vertical-align: top;\n",
       "    }\n",
       "\n",
       "    .dataframe thead th {\n",
       "        text-align: right;\n",
       "    }\n",
       "</style>\n",
       "<table border=\"1\" class=\"dataframe\">\n",
       "  <thead>\n",
       "    <tr style=\"text-align: right;\">\n",
       "      <th></th>\n",
       "      <th>cost</th>\n",
       "      <th>address</th>\n",
       "      <th>unitType</th>\n",
       "      <th>bedrooms</th>\n",
       "      <th>bathrooms</th>\n",
       "      <th>hydro</th>\n",
       "      <th>heat</th>\n",
       "      <th>water</th>\n",
       "      <th>wifi_info</th>\n",
       "      <th>parking</th>\n",
       "      <th>...</th>\n",
       "      <th>pet</th>\n",
       "      <th>size</th>\n",
       "      <th>furnished</th>\n",
       "      <th>appliances</th>\n",
       "      <th>ac</th>\n",
       "      <th>outdoor</th>\n",
       "      <th>smoking</th>\n",
       "      <th>amenities</th>\n",
       "      <th>url</th>\n",
       "      <th>has_den</th>\n",
       "    </tr>\n",
       "  </thead>\n",
       "  <tbody>\n",
       "    <tr>\n",
       "      <th>0</th>\n",
       "      <td>933</td>\n",
       "      <td>22-41 Munroe Pl., Regina, SK, S4S 6A7</td>\n",
       "      <td>Apartment</td>\n",
       "      <td>2</td>\n",
       "      <td>1.0</td>\n",
       "      <td>0</td>\n",
       "      <td>1</td>\n",
       "      <td>1</td>\n",
       "      <td>Cable / TV</td>\n",
       "      <td>1</td>\n",
       "      <td>...</td>\n",
       "      <td>1</td>\n",
       "      <td>860</td>\n",
       "      <td>0</td>\n",
       "      <td>[Laundry (In Building), Fridge / Freezer]</td>\n",
       "      <td>1</td>\n",
       "      <td>[Balcony]</td>\n",
       "      <td>1</td>\n",
       "      <td>[24 Hour Security, Storage Space]</td>\n",
       "      <td>/v-apartments-condos/regina/2-bedroom-22-41-mu...</td>\n",
       "      <td>0</td>\n",
       "    </tr>\n",
       "    <tr>\n",
       "      <th>1</th>\n",
       "      <td>850</td>\n",
       "      <td>2175  Rae Street, Regina, SK, S4T 2E8</td>\n",
       "      <td>Apartment</td>\n",
       "      <td>1</td>\n",
       "      <td>1.0</td>\n",
       "      <td>0</td>\n",
       "      <td>1</td>\n",
       "      <td>1</td>\n",
       "      <td>Not Included</td>\n",
       "      <td>0</td>\n",
       "      <td>...</td>\n",
       "      <td>1</td>\n",
       "      <td>380</td>\n",
       "      <td>0</td>\n",
       "      <td>[Laundry (In Building), Fridge / Freezer]</td>\n",
       "      <td>1</td>\n",
       "      <td>[Not Included]</td>\n",
       "      <td>0</td>\n",
       "      <td>[Not Included]</td>\n",
       "      <td>/v-apartments-condos/regina/beautiful-bachelor...</td>\n",
       "      <td>0</td>\n",
       "    </tr>\n",
       "    <tr>\n",
       "      <th>2</th>\n",
       "      <td>799</td>\n",
       "      <td>1424 Victoria Ave, Regina, SK, S4P 0P3</td>\n",
       "      <td>Apartment</td>\n",
       "      <td>1</td>\n",
       "      <td>1.0</td>\n",
       "      <td>0</td>\n",
       "      <td>1</td>\n",
       "      <td>1</td>\n",
       "      <td>Not Included</td>\n",
       "      <td>0</td>\n",
       "      <td>...</td>\n",
       "      <td>1</td>\n",
       "      <td>520</td>\n",
       "      <td>0</td>\n",
       "      <td>[Fridge / Freezer]</td>\n",
       "      <td>0</td>\n",
       "      <td>[Not Included]</td>\n",
       "      <td>0</td>\n",
       "      <td>[Not Included]</td>\n",
       "      <td>/v-apartments-condos/regina/downtown-apartment...</td>\n",
       "      <td>0</td>\n",
       "    </tr>\n",
       "    <tr>\n",
       "      <th>3</th>\n",
       "      <td>814</td>\n",
       "      <td>3864 Rae Street, Regina, SK, S4S 3A1</td>\n",
       "      <td>Apartment</td>\n",
       "      <td>1</td>\n",
       "      <td>1.0</td>\n",
       "      <td>0</td>\n",
       "      <td>1</td>\n",
       "      <td>1</td>\n",
       "      <td>Not Included</td>\n",
       "      <td>0</td>\n",
       "      <td>...</td>\n",
       "      <td>1</td>\n",
       "      <td>675</td>\n",
       "      <td>0</td>\n",
       "      <td>[Fridge / Freezer]</td>\n",
       "      <td>0</td>\n",
       "      <td>[Not Included]</td>\n",
       "      <td>0</td>\n",
       "      <td>[Not Included]</td>\n",
       "      <td>/v-apartments-condos/regina/parliament-place-a...</td>\n",
       "      <td>0</td>\n",
       "    </tr>\n",
       "    <tr>\n",
       "      <th>4</th>\n",
       "      <td>1030</td>\n",
       "      <td>2240 Robinson Street, Regina, SK, S4T 2P9</td>\n",
       "      <td>Apartment</td>\n",
       "      <td>2</td>\n",
       "      <td>1.0</td>\n",
       "      <td>0</td>\n",
       "      <td>1</td>\n",
       "      <td>1</td>\n",
       "      <td>Not Included</td>\n",
       "      <td>0</td>\n",
       "      <td>...</td>\n",
       "      <td>1</td>\n",
       "      <td>870</td>\n",
       "      <td>0</td>\n",
       "      <td>[Laundry (In Building), Fridge / Freezer]</td>\n",
       "      <td>1</td>\n",
       "      <td>[Not Included]</td>\n",
       "      <td>0</td>\n",
       "      <td>[Not Included]</td>\n",
       "      <td>/v-apartments-condos/regina/pet-friendly-2-bed...</td>\n",
       "      <td>0</td>\n",
       "    </tr>\n",
       "    <tr>\n",
       "      <th>...</th>\n",
       "      <td>...</td>\n",
       "      <td>...</td>\n",
       "      <td>...</td>\n",
       "      <td>...</td>\n",
       "      <td>...</td>\n",
       "      <td>...</td>\n",
       "      <td>...</td>\n",
       "      <td>...</td>\n",
       "      <td>...</td>\n",
       "      <td>...</td>\n",
       "      <td>...</td>\n",
       "      <td>...</td>\n",
       "      <td>...</td>\n",
       "      <td>...</td>\n",
       "      <td>...</td>\n",
       "      <td>...</td>\n",
       "      <td>...</td>\n",
       "      <td>...</td>\n",
       "      <td>...</td>\n",
       "      <td>...</td>\n",
       "      <td>...</td>\n",
       "    </tr>\n",
       "    <tr>\n",
       "      <th>843</th>\n",
       "      <td>1100</td>\n",
       "      <td>125 Froom Crescent, Regina, SK S4N 1S8, Canada</td>\n",
       "      <td>Condo</td>\n",
       "      <td>2</td>\n",
       "      <td>1.0</td>\n",
       "      <td>0</td>\n",
       "      <td>1</td>\n",
       "      <td>1</td>\n",
       "      <td>Not Included</td>\n",
       "      <td>1</td>\n",
       "      <td>...</td>\n",
       "      <td>0</td>\n",
       "      <td>1000</td>\n",
       "      <td>1</td>\n",
       "      <td>[Laundry (In Building), Dishwasher, Fridge / F...</td>\n",
       "      <td>1</td>\n",
       "      <td>[Not Included]</td>\n",
       "      <td>0</td>\n",
       "      <td>[Bicycle Parking, Storage Space]</td>\n",
       "      <td>/v-apartments-condos/regina/furnished-2-bedroo...</td>\n",
       "      <td>0</td>\n",
       "    </tr>\n",
       "    <tr>\n",
       "      <th>845</th>\n",
       "      <td>1095</td>\n",
       "      <td>, S4r2l7, Regina, SK</td>\n",
       "      <td>Apartment</td>\n",
       "      <td>2</td>\n",
       "      <td>1.0</td>\n",
       "      <td>0</td>\n",
       "      <td>1</td>\n",
       "      <td>1</td>\n",
       "      <td>Not Included</td>\n",
       "      <td>2</td>\n",
       "      <td>...</td>\n",
       "      <td>0</td>\n",
       "      <td>1000</td>\n",
       "      <td>0</td>\n",
       "      <td>[Laundry (In Unit), Dishwasher, Fridge / Freezer]</td>\n",
       "      <td>1</td>\n",
       "      <td>[Yard]</td>\n",
       "      <td>0</td>\n",
       "      <td>[Not Included]</td>\n",
       "      <td>/v-apartments-condos/regina/clean-quiet-and-af...</td>\n",
       "      <td>0</td>\n",
       "    </tr>\n",
       "    <tr>\n",
       "      <th>847</th>\n",
       "      <td>895</td>\n",
       "      <td>309 Belfast St, North Portal, SK S0C 1W0, Canada</td>\n",
       "      <td>House</td>\n",
       "      <td>2</td>\n",
       "      <td>1.0</td>\n",
       "      <td>0</td>\n",
       "      <td>0</td>\n",
       "      <td>1</td>\n",
       "      <td>Not Included</td>\n",
       "      <td>3</td>\n",
       "      <td>...</td>\n",
       "      <td>1</td>\n",
       "      <td>1300</td>\n",
       "      <td>0</td>\n",
       "      <td>[Laundry (In Unit), Dishwasher, Fridge / Freezer]</td>\n",
       "      <td>0</td>\n",
       "      <td>[Yard]</td>\n",
       "      <td>0</td>\n",
       "      <td>[Not Included]</td>\n",
       "      <td>/v-apartments-condos/regina/house-for-rent/156...</td>\n",
       "      <td>1</td>\n",
       "    </tr>\n",
       "    <tr>\n",
       "      <th>849</th>\n",
       "      <td>1750</td>\n",
       "      <td>Trinity Way, Regina, SK S0G 4G0, Canada</td>\n",
       "      <td>Condo</td>\n",
       "      <td>2</td>\n",
       "      <td>2.0</td>\n",
       "      <td>0</td>\n",
       "      <td>0</td>\n",
       "      <td>0</td>\n",
       "      <td>Not Included</td>\n",
       "      <td>2</td>\n",
       "      <td>...</td>\n",
       "      <td>1</td>\n",
       "      <td>1400</td>\n",
       "      <td>0</td>\n",
       "      <td>[Laundry (In Unit), Dishwasher, Fridge / Freezer]</td>\n",
       "      <td>1</td>\n",
       "      <td>[Balcony]</td>\n",
       "      <td>0</td>\n",
       "      <td>[Elevator in Building]</td>\n",
       "      <td>/v-apartments-condos/regina/luxury-harbour-lan...</td>\n",
       "      <td>0</td>\n",
       "    </tr>\n",
       "    <tr>\n",
       "      <th>850</th>\n",
       "      <td>900</td>\n",
       "      <td>, stoughton S0G 4T0 SK, Canada</td>\n",
       "      <td>House</td>\n",
       "      <td>3</td>\n",
       "      <td>2.0</td>\n",
       "      <td>0</td>\n",
       "      <td>0</td>\n",
       "      <td>0</td>\n",
       "      <td>Not Included</td>\n",
       "      <td>2</td>\n",
       "      <td>...</td>\n",
       "      <td>0</td>\n",
       "      <td>1216</td>\n",
       "      <td>0</td>\n",
       "      <td>[Laundry (In Unit), Dishwasher, Fridge / Freezer]</td>\n",
       "      <td>0</td>\n",
       "      <td>[Yard]</td>\n",
       "      <td>0</td>\n",
       "      <td>[Not Included]</td>\n",
       "      <td>/v-apartments-condos/regina/stoughton-rental/1...</td>\n",
       "      <td>0</td>\n",
       "    </tr>\n",
       "  </tbody>\n",
       "</table>\n",
       "<p>677 rows × 21 columns</p>\n",
       "</div>"
      ],
      "text/plain": [
       "     cost                                           address   unitType  \\\n",
       "0     933             22-41 Munroe Pl., Regina, SK, S4S 6A7  Apartment   \n",
       "1     850             2175  Rae Street, Regina, SK, S4T 2E8  Apartment   \n",
       "2     799            1424 Victoria Ave, Regina, SK, S4P 0P3  Apartment   \n",
       "3     814              3864 Rae Street, Regina, SK, S4S 3A1  Apartment   \n",
       "4    1030         2240 Robinson Street, Regina, SK, S4T 2P9  Apartment   \n",
       "..    ...                                               ...        ...   \n",
       "843  1100    125 Froom Crescent, Regina, SK S4N 1S8, Canada      Condo   \n",
       "845  1095                              , S4r2l7, Regina, SK  Apartment   \n",
       "847   895  309 Belfast St, North Portal, SK S0C 1W0, Canada      House   \n",
       "849  1750           Trinity Way, Regina, SK S0G 4G0, Canada      Condo   \n",
       "850   900                    , stoughton S0G 4T0 SK, Canada      House   \n",
       "\n",
       "     bedrooms  bathrooms  hydro  heat  water     wifi_info  parking  ... pet  \\\n",
       "0           2        1.0      0     1      1    Cable / TV        1  ...   1   \n",
       "1           1        1.0      0     1      1  Not Included        0  ...   1   \n",
       "2           1        1.0      0     1      1  Not Included        0  ...   1   \n",
       "3           1        1.0      0     1      1  Not Included        0  ...   1   \n",
       "4           2        1.0      0     1      1  Not Included        0  ...   1   \n",
       "..        ...        ...    ...   ...    ...           ...      ...  ...  ..   \n",
       "843         2        1.0      0     1      1  Not Included        1  ...   0   \n",
       "845         2        1.0      0     1      1  Not Included        2  ...   0   \n",
       "847         2        1.0      0     0      1  Not Included        3  ...   1   \n",
       "849         2        2.0      0     0      0  Not Included        2  ...   1   \n",
       "850         3        2.0      0     0      0  Not Included        2  ...   0   \n",
       "\n",
       "     size  furnished                                         appliances ac  \\\n",
       "0     860          0          [Laundry (In Building), Fridge / Freezer]  1   \n",
       "1     380          0          [Laundry (In Building), Fridge / Freezer]  1   \n",
       "2     520          0                                 [Fridge / Freezer]  0   \n",
       "3     675          0                                 [Fridge / Freezer]  0   \n",
       "4     870          0          [Laundry (In Building), Fridge / Freezer]  1   \n",
       "..    ...        ...                                                ... ..   \n",
       "843  1000          1  [Laundry (In Building), Dishwasher, Fridge / F...  1   \n",
       "845  1000          0  [Laundry (In Unit), Dishwasher, Fridge / Freezer]  1   \n",
       "847  1300          0  [Laundry (In Unit), Dishwasher, Fridge / Freezer]  0   \n",
       "849  1400          0  [Laundry (In Unit), Dishwasher, Fridge / Freezer]  1   \n",
       "850  1216          0  [Laundry (In Unit), Dishwasher, Fridge / Freezer]  0   \n",
       "\n",
       "            outdoor smoking                          amenities  \\\n",
       "0         [Balcony]       1  [24 Hour Security, Storage Space]   \n",
       "1    [Not Included]       0                     [Not Included]   \n",
       "2    [Not Included]       0                     [Not Included]   \n",
       "3    [Not Included]       0                     [Not Included]   \n",
       "4    [Not Included]       0                     [Not Included]   \n",
       "..              ...     ...                                ...   \n",
       "843  [Not Included]       0   [Bicycle Parking, Storage Space]   \n",
       "845          [Yard]       0                     [Not Included]   \n",
       "847          [Yard]       0                     [Not Included]   \n",
       "849       [Balcony]       0             [Elevator in Building]   \n",
       "850          [Yard]       0                     [Not Included]   \n",
       "\n",
       "                                                   url has_den  \n",
       "0    /v-apartments-condos/regina/2-bedroom-22-41-mu...       0  \n",
       "1    /v-apartments-condos/regina/beautiful-bachelor...       0  \n",
       "2    /v-apartments-condos/regina/downtown-apartment...       0  \n",
       "3    /v-apartments-condos/regina/parliament-place-a...       0  \n",
       "4    /v-apartments-condos/regina/pet-friendly-2-bed...       0  \n",
       "..                                                 ...     ...  \n",
       "843  /v-apartments-condos/regina/furnished-2-bedroo...       0  \n",
       "845  /v-apartments-condos/regina/clean-quiet-and-af...       0  \n",
       "847  /v-apartments-condos/regina/house-for-rent/156...       1  \n",
       "849  /v-apartments-condos/regina/luxury-harbour-lan...       0  \n",
       "850  /v-apartments-condos/regina/stoughton-rental/1...       0  \n",
       "\n",
       "[677 rows x 21 columns]"
      ]
     },
     "execution_count": 25,
     "metadata": {},
     "output_type": "execute_result"
    }
   ],
   "source": [
    "df = pd.read_csv(\"csv/kijiji_listing_data.csv\")\n",
    "del df[\"Unnamed: 0\"]\n",
    "# del df[\"url\"]\n",
    "df = df[df['cost'] != -1]\n",
    "df = df[df['size'] > 1]\n",
    "# df = df[df['agreement'] != \"Not Available\"]\n",
    "df = df[df['size'] != 12345] \n",
    "df = df[df['size'] != 9999] # (some idiots...)\n",
    "df = df[df['parking'] != \"Not Available\"]\n",
    "\n",
    "df[\"parking\"] = df[\"parking\"].apply(lambda s: int(s.rstrip('+')))\n",
    "\n",
    "df[\"appliances\"] = df[\"appliances\"].apply(lambda s: s.split(','))\n",
    "df[\"amenities\"] = df[\"amenities\"].apply(lambda s: s.split(','))\n",
    "df[\"outdoor\"] = df[\"outdoor\"].apply(lambda s: s.split(','))\n",
    "\n",
    "df[\"has_den\"] = df[\"bedrooms\"].str.endswith(\" + Den\").astype(int)\n",
    "df[\"bedrooms\"] = df[\"bedrooms\"].apply(lambda s: 1 if s == \"Bachelor/Studio\" else int(s.rstrip(\" + Den+\")))\n",
    "\n",
    "df = df.drop(df[(df['cost'] / df['size']) == (df['cost'] / df['size']).max()].index)\n",
    "\n",
    "df"
   ]
  },
  {
   "cell_type": "code",
   "execution_count": 29,
   "id": "ec1945a9-941d-45fc-9782-96aebdb6e055",
   "metadata": {},
   "outputs": [
    {
     "data": {
      "text/plain": [
       "'/v-apartments-condos/regina/room-available-for-rent-for-450-00/1569956247'"
      ]
     },
     "execution_count": 29,
     "metadata": {},
     "output_type": "execute_result"
    }
   ],
   "source": [
    "df[(df['cost'] / df['size']) == (df['cost'] / df['size']).max()].url.iloc[0]\n",
    "# (df['cost'] / df['size']).nlargest(10)"
   ]
  },
  {
   "cell_type": "code",
   "execution_count": 30,
   "id": "e8d54ea0-37f2-47f3-bfa4-f50f729ea634",
   "metadata": {},
   "outputs": [
    {
     "data": {
      "image/png": "[encoded data removed]",
      "text/plain": [
       "<Figure size 432x288 with 1 Axes>"
      ]
     },
     "metadata": {
      "needs_background": "light"
     },
     "output_type": "display_data"
    },
    {
     "data": {
      "image/png": "[encoded data removed]",
      "text/plain": [
       "<Figure size 432x288 with 1 Axes>"
      ]
     },
     "metadata": {
      "needs_background": "light"
     },
     "output_type": "display_data"
    },
    {
     "data": {
      "image/png": "[encoded data removed]",
      "text/plain": [
       "<Figure size 432x288 with 1 Axes>"
      ]
     },
     "metadata": {
      "needs_background": "light"
     },
     "output_type": "display_data"
    },
    {
     "data": {
      "image/png": "[encoded data removed]",
      "text/plain": [
       "<Figure size 432x288 with 1 Axes>"
      ]
     },
     "metadata": {
      "needs_background": "light"
     },
     "output_type": "display_data"
    },
    {
     "data": {
      "image/png": "[encoded data removed]",
      "text/plain": [
       "<Figure size 432x288 with 1 Axes>"
      ]
     },
     "metadata": {
      "needs_background": "light"
     },
     "output_type": "display_data"
    }
   ],
   "source": [
    "plt.hist(df['cost'], 40, (0, 3000)); plt.show();\n",
    "plt.hist(df['cost'] / df['size'], 30); plt.show();\n",
    "plt.hist(df['size'], 30); plt.show();\n",
    "plt.hist(df['bedrooms']); plt.show();\n",
    "plt.hist(df['bathrooms']);"
   ]
  },
  {
   "cell_type": "code",
   "execution_count": 4,
   "id": "52f155a0-5721-49c8-95a6-12594f328af6",
   "metadata": {},
   "outputs": [
    {
     "data": {
      "image/png": "[encoded data removed]",
      "text/plain": [
       "<Figure size 432x288 with 1 Axes>"
      ]
     },
     "metadata": {},
     "output_type": "display_data"
    },
    {
     "data": {
      "image/png": "[encoded data removed]",
      "text/plain": [
       "<Figure size 432x288 with 1 Axes>"
      ]
     },
     "metadata": {},
     "output_type": "display_data"
    },
    {
     "data": {
      "image/png": "[encoded data removed]",
      "text/plain": [
       "<Figure size 432x288 with 1 Axes>"
      ]
     },
     "metadata": {},
     "output_type": "display_data"
    },
    {
     "data": {
      "image/png": "[encoded data removed]",
      "text/plain": [
       "<Figure size 432x288 with 1 Axes>"
      ]
     },
     "metadata": {},
     "output_type": "display_data"
    }
   ],
   "source": [
    "def piePlot(srs):\n",
    "    keys, vals = zip(*Counter(srs).most_common())\n",
    "    plt.pie(vals, labels=keys, autopct='%1.2f%%', textprops=dict(color='w'))\n",
    "    plt.show()\n",
    "doPie = (\"unitType\", \"wifi_info\", \"parking\", \"agreement\")\n",
    "for col in doPie:\n",
    "    piePlot(df[col])"
   ]
  },
  {
   "cell_type": "code",
   "execution_count": 5,
   "id": "476befbf-bc2f-4d53-aaa3-c1216a7eff0a",
   "metadata": {},
   "outputs": [
    {
     "name": "stdout",
     "output_type": "stream",
     "text": [
      "hydro: 16.08%\n",
      "heat: 69.32%\n",
      "water: 77.58%\n",
      "pet: 55.90%\n",
      "ac: 50.88%\n",
      "smoking: 9.44%\n"
     ]
    }
   ],
   "source": [
    "for col in (\"hydro\", \"heat\", \"water\", \"pet\", \"ac\", \"smoking\"):\n",
    "    print(f\"{col}: {sum(df[col])/len(df)*100:2.2f}%\")"
   ]
  },
  {
   "cell_type": "code",
   "execution_count": 6,
   "id": "aac919aa-7bbf-4bd8-848f-e5f8e9e48300",
   "metadata": {},
   "outputs": [
    {
     "name": "stdout",
     "output_type": "stream",
     "text": [
      "Possible appliances:\n",
      "- Dishwasher (35.10%)\n",
      "- Not Included (1.33%)\n",
      "- Laundry (In Building) (43.81%)\n",
      "- Fridge / Freezer (92.04%)\n",
      "- Laundry (In Unit) (42.18%)\n",
      "\n",
      "Possible amenities:\n",
      "- Bicycle Parking (6.19%)\n",
      "- Pool (2.95%)\n",
      "- Elevator in Building (13.42%)\n",
      "- Storage Space (12.24%)\n",
      "- Gym (8.41%)\n",
      "- 24 Hour Security (11.65%)\n",
      "- Not Included (73.45%)\n",
      "- Concierge (1.92%)\n",
      "\n",
      "Possible outdoors:\n",
      "- Yard (31.12%)\n",
      "- Not Included (37.61%)\n",
      "- Balcony (39.38%)\n"
     ]
    }
   ],
   "source": [
    "# Do appliances and amenities\n",
    "print(\"Possible appliances:\")\n",
    "for item in set(item for lst in df[\"appliances\"] for item in lst):\n",
    "    print(f\"- {item} ({df['appliances'].apply(lambda st: item in st).value_counts()[True] / len(df) * 100:2.2f}%)\")\n",
    "print(\"\\nPossible amenities:\")\n",
    "for item in set(item for lst in df[\"amenities\"] for item in lst):\n",
    "    print(f\"- {item} ({df['amenities'].apply(lambda st: item in st).value_counts()[True] / len(df) * 100:2.2f}%)\")\n",
    "print(\"\\nPossible outdoors:\")\n",
    "for item in set(item for lst in df[\"outdoor\"] for item in lst):\n",
    "    print(f\"- {item} ({df['outdoor'].apply(lambda st: item in st).value_counts()[True] / len(df) * 100:2.2f}%)\")"
   ]
  },
  {
   "cell_type": "code",
   "execution_count": 7,
   "id": "805dee5f-fe73-4925-848e-46c6b2fe6e98",
   "metadata": {},
   "outputs": [],
   "source": [
    "df_processed = df.copy()\n",
    "df_processed.to_csv(\"csv/kijiji_listings_processed.csv\")"
   ]
  },
  {
   "cell_type": "code",
   "execution_count": 8,
   "id": "ccf0d3f4-3103-496c-a6b9-28bb48149375",
   "metadata": {},
   "outputs": [],
   "source": [
    "# df.style.background_gradient()"
   ]
  },
  {
   "cell_type": "code",
   "execution_count": null,
   "id": "6d80e174-f3bc-42a2-b97c-bf60cfce07b3",
   "metadata": {},
   "outputs": [],
   "source": []
  }
 ],
 "metadata": {
  "kernelspec": {
   "display_name": "Python 3",
   "language": "python",
   "name": "python3"
  },
  "language_info": {
   "codemirror_mode": {
    "name": "ipython",
    "version": 3
   },
   "file_extension": ".py",
   "mimetype": "text/x-python",
   "name": "python",
   "nbconvert_exporter": "python",
   "pygments_lexer": "ipython3",
   "version": "3.9.4"
  }
 },
 "nbformat": 4,
 "nbformat_minor": 5
}
